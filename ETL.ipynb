{
  "nbformat": 4,
  "nbformat_minor": 0,
  "metadata": {
    "colab": {
      "provenance": [],
      "gpuType": "T4",
      "authorship_tag": "ABX9TyM6t+GNlVM6UXzOxmAV+IHx",
      "include_colab_link": true
    },
    "kernelspec": {
      "name": "python3",
      "display_name": "Python 3"
    },
    "language_info": {
      "name": "python"
    },
    "accelerator": "GPU"
  },
  "cells": [
    {
      "cell_type": "markdown",
      "metadata": {
        "id": "view-in-github",
        "colab_type": "text"
      },
      "source": [
        "<a href=\"https://colab.research.google.com/github/UmarKhattab09/ETL-Youtube/blob/main/ETL.ipynb\" target=\"_parent\"><img src=\"https://colab.research.google.com/assets/colab-badge.svg\" alt=\"Open In Colab\"/></a>"
      ]
    },
    {
      "cell_type": "markdown",
      "source": [
        "### Importing Libraries and Downloading the Libraries"
      ],
      "metadata": {
        "id": "W3JljaLLJ33c"
      }
    },
    {
      "cell_type": "code",
      "execution_count": null,
      "metadata": {
        "id": "xlmp7X5LwwsS",
        "colab": {
          "base_uri": "https://localhost:8080/"
        },
        "outputId": "f653660a-868a-4a29-9828-0003c82bc160",
        "collapsed": true
      },
      "outputs": [
        {
          "output_type": "stream",
          "name": "stdout",
          "text": [
            "Requirement already satisfied: youtube_transcript_api==0.6.2 in /usr/local/lib/python3.11/dist-packages (0.6.2)\n",
            "Requirement already satisfied: requests in /usr/local/lib/python3.11/dist-packages (from youtube_transcript_api==0.6.2) (2.32.3)\n",
            "Requirement already satisfied: charset-normalizer<4,>=2 in /usr/local/lib/python3.11/dist-packages (from requests->youtube_transcript_api==0.6.2) (3.4.1)\n",
            "Requirement already satisfied: idna<4,>=2.5 in /usr/local/lib/python3.11/dist-packages (from requests->youtube_transcript_api==0.6.2) (3.10)\n",
            "Requirement already satisfied: urllib3<3,>=1.21.1 in /usr/local/lib/python3.11/dist-packages (from requests->youtube_transcript_api==0.6.2) (2.3.0)\n",
            "Requirement already satisfied: certifi>=2017.4.17 in /usr/local/lib/python3.11/dist-packages (from requests->youtube_transcript_api==0.6.2) (2025.1.31)\n"
          ]
        }
      ],
      "source": [
        "!pip install youtube_transcript_api==0.6.2\n",
        "\n",
        "import requests\n",
        "import json\n",
        "import polars as pl\n",
        "from youtube_transcript_api import YouTubeTranscriptApi"
      ]
    },
    {
      "cell_type": "markdown",
      "source": [
        "### Pulling Video ID'S\n",
        "1. You need Channel ID which can be Extracted from Youtube Channel under View Page Source\n",
        "2. You need an API KEY which is listed as `mykey` in params\n"
      ],
      "metadata": {
        "id": "8C25VD-AnXM3"
      }
    },
    {
      "cell_type": "code",
      "source": [
        "channel_id = \"UCNB_OaI4524fASt8h0IL8dw\"\n",
        "url = 'https://www.googleapis.com/youtube/v3/search'\n",
        "page_token = None\n",
        "video_record_list=[]\n"
      ],
      "metadata": {
        "id": "dQSqlRlwT7RC"
      },
      "execution_count": null,
      "outputs": []
    },
    {
      "cell_type": "code",
      "source": [
        "def getVideoRecords(response: requests.models.Response) -> list:\n",
        "    \"\"\"\n",
        "        Function to extract YouTube video data from GET request response\n",
        "    \"\"\"\n",
        "\n",
        "    video_record_list = []\n",
        "\n",
        "    for raw_item in json.loads(response.text)['items']:\n",
        "\n",
        "        # only execute for youtube videos\n",
        "        if raw_item['id']['kind'] != \"youtube#video\":\n",
        "            continue\n",
        "\n",
        "        video_record = {}\n",
        "        video_record['video_id'] = raw_item['id']['videoId']\n",
        "        video_record['datetime'] = raw_item['snippet']['publishedAt']\n",
        "        video_record['title'] = raw_item['snippet']['title']\n",
        "\n",
        "        video_record_list.append(video_record)\n",
        "\n",
        "    return video_record_list"
      ],
      "metadata": {
        "id": "Qd8KBQD7ehYO"
      },
      "execution_count": null,
      "outputs": []
    },
    {
      "cell_type": "code",
      "source": [
        "%%time\n",
        "# extract video data across multiple search result pages\n",
        "while page_token != 0:\n",
        "    # define parameters for API call\n",
        "    params = {\"key\": mykey, 'channelId': channel_id, 'part': [\"snippet\",\"id\"], 'order': \"date\", 'maxResults':50, 'pageToken': page_token}\n",
        "    # make get request\n",
        "    response = requests.get(url, params=params)\n",
        "\n",
        "    # append video records to list\n",
        "    video_record_list += getVideoRecords(response)\n",
        "\n",
        "    try:\n",
        "        # grab next page token\n",
        "        page_token = json.loads(response.text)['nextPageToken']\n",
        "    except:\n",
        "        # if no next page token kill while loop\n",
        "        page_token = 0\n",
        "\n"
      ],
      "metadata": {
        "colab": {
          "base_uri": "https://localhost:8080/"
        },
        "id": "o6GbLFCUdor1",
        "outputId": "2c43f2f9-5e71-4741-b529-b5bd5ea99e89"
      },
      "execution_count": null,
      "outputs": [
        {
          "output_type": "stream",
          "name": "stdout",
          "text": [
            "CPU times: user 5 µs, sys: 0 ns, total: 5 µs\n",
            "Wall time: 13.4 µs\n"
          ]
        }
      ]
    },
    {
      "cell_type": "code",
      "source": [
        "df = pl.DataFrame(video_record_list)\n",
        "df.head()"
      ],
      "metadata": {
        "colab": {
          "base_uri": "https://localhost:8080/",
          "height": 255
        },
        "id": "JWqfSWesd2cK",
        "outputId": "7a498ac8-3079-4df6-e0ec-161b02477fcb"
      },
      "execution_count": null,
      "outputs": [
        {
          "output_type": "execute_result",
          "data": {
            "text/plain": [
              "shape: (5, 3)\n",
              "┌─────────────┬──────────────────────┬─────────────────────────────────┐\n",
              "│ video_id    ┆ datetime             ┆ title                           │\n",
              "│ ---         ┆ ---                  ┆ ---                             │\n",
              "│ str         ┆ str                  ┆ str                             │\n",
              "╞═════════════╪══════════════════════╪═════════════════════════════════╡\n",
              "│ GdxpXf9LUQY ┆ 2025-03-19T18:00:06Z ┆ The Power of the Last 10 Night… │\n",
              "│ mQTQTOW78cc ┆ 2025-03-19T16:01:03Z ┆ Your Duty is More Than Paying … │\n",
              "│ 0RaVy5k9DFk ┆ 2025-03-19T14:00:02Z ┆ Revert Issues | Mufti Menk | R… │\n",
              "│ Nku70MkGf_w ┆ 2025-03-19T12:00:28Z ┆ Everyone&#39;s Blessing is Uni… │\n",
              "│ vUGmz7DiLLQ ┆ 2025-03-19T10:40:04Z ┆ Predestined Wealth VS Hard Wor… │\n",
              "└─────────────┴──────────────────────┴─────────────────────────────────┘"
            ],
            "text/html": [
              "<div><style>\n",
              ".dataframe > thead > tr,\n",
              ".dataframe > tbody > tr {\n",
              "  text-align: right;\n",
              "  white-space: pre-wrap;\n",
              "}\n",
              "</style>\n",
              "<small>shape: (5, 3)</small><table border=\"1\" class=\"dataframe\"><thead><tr><th>video_id</th><th>datetime</th><th>title</th></tr><tr><td>str</td><td>str</td><td>str</td></tr></thead><tbody><tr><td>&quot;GdxpXf9LUQY&quot;</td><td>&quot;2025-03-19T18:00:06Z&quot;</td><td>&quot;The Power of the Last 10 Night…</td></tr><tr><td>&quot;mQTQTOW78cc&quot;</td><td>&quot;2025-03-19T16:01:03Z&quot;</td><td>&quot;Your Duty is More Than Paying …</td></tr><tr><td>&quot;0RaVy5k9DFk&quot;</td><td>&quot;2025-03-19T14:00:02Z&quot;</td><td>&quot;Revert Issues | Mufti Menk | R…</td></tr><tr><td>&quot;Nku70MkGf_w&quot;</td><td>&quot;2025-03-19T12:00:28Z&quot;</td><td>&quot;Everyone&amp;#39;s Blessing is Uni…</td></tr><tr><td>&quot;vUGmz7DiLLQ&quot;</td><td>&quot;2025-03-19T10:40:04Z&quot;</td><td>&quot;Predestined Wealth VS Hard Wor…</td></tr></tbody></table></div>"
            ]
          },
          "metadata": {},
          "execution_count": 15
        }
      ]
    },
    {
      "cell_type": "markdown",
      "source": [
        "### Add transcripts to DataFrame\n"
      ],
      "metadata": {
        "id": "PqtHMEySn5Km"
      }
    },
    {
      "cell_type": "code",
      "source": [
        "def extract_text(transcript: list) -> str:\n",
        "    \"\"\"\n",
        "        Function to extract text from transcript dictionary\n",
        "    \"\"\"\n",
        "\n",
        "    text_list = [transcript[i]['text'] for i in range(len(transcript))]\n",
        "    return ' '.join(text_list)"
      ],
      "metadata": {
        "id": "w1N0vxwljJ01"
      },
      "execution_count": null,
      "outputs": []
    },
    {
      "cell_type": "markdown",
      "source": [
        "#### The Cell Below will take Time."
      ],
      "metadata": {
        "id": "FZ_w-6dpn8wb"
      }
    },
    {
      "cell_type": "code",
      "source": [
        "%%time\n",
        "transcript_text_list = []\n",
        "\n",
        "for i in range(len(df)):\n",
        "\n",
        "    # try to extract captions\n",
        "    try:\n",
        "        transcript = YouTubeTranscriptApi.get_transcript(df['video_id'][i])\n",
        "        transcript_text = extract_text(transcript)\n",
        "    # if not available set as n/a\n",
        "    except:\n",
        "        transcript_text = \"n/a\"\n",
        "\n",
        "    transcript_text_list.append(transcript_text)"
      ],
      "metadata": {
        "id": "Go8oAO6Vjb0y"
      },
      "execution_count": null,
      "outputs": []
    },
    {
      "cell_type": "code",
      "source": [
        "df = df.with_columns(pl.Series(name=\"transcript\", values=transcript_text_list))\n",
        "print(df.head())"
      ],
      "metadata": {
        "colab": {
          "base_uri": "https://localhost:8080/"
        },
        "id": "0yr19kBnkfi3",
        "outputId": "932d7b48-0fde-4181-c29c-185b42012a46"
      },
      "execution_count": null,
      "outputs": [
        {
          "output_type": "stream",
          "name": "stdout",
          "text": [
            "shape: (5, 4)\n",
            "┌─────────────┬──────────────────────┬──────────────────────────────┬──────────────────────────────┐\n",
            "│ video_id    ┆ datetime             ┆ title                        ┆ transcript                   │\n",
            "│ ---         ┆ ---                  ┆ ---                          ┆ ---                          │\n",
            "│ str         ┆ str                  ┆ str                          ┆ str                          │\n",
            "╞═════════════╪══════════════════════╪══════════════════════════════╪══════════════════════════════╡\n",
            "│ GdxpXf9LUQY ┆ 2025-03-19T18:00:06Z ┆ The Power of the Last 10     ┆ Welcome to the final stretch │\n",
            "│             ┆                      ┆ Night…                       ┆ a…                           │\n",
            "│ mQTQTOW78cc ┆ 2025-03-19T16:01:03Z ┆ Your Duty is More Than       ┆ n/a                          │\n",
            "│             ┆                      ┆ Paying …                     ┆                              │\n",
            "│ 0RaVy5k9DFk ┆ 2025-03-19T14:00:02Z ┆ Revert Issues | Mufti Menk | ┆ n/a                          │\n",
            "│             ┆                      ┆ R…                           ┆                              │\n",
            "│ Nku70MkGf_w ┆ 2025-03-19T12:00:28Z ┆ Everyone&#39;s Blessing is   ┆ n/a                          │\n",
            "│             ┆                      ┆ Uni…                         ┆                              │\n",
            "│ vUGmz7DiLLQ ┆ 2025-03-19T10:40:04Z ┆ Predestined Wealth VS Hard   ┆ n/a                          │\n",
            "│             ┆                      ┆ Wor…                         ┆                              │\n",
            "└─────────────┴──────────────────────┴──────────────────────────────┴──────────────────────────────┘\n"
          ]
        }
      ]
    },
    {
      "cell_type": "code",
      "source": [
        "# shape + unique values\n",
        "print(\"shape:\", df.shape)\n",
        "print(\"n unique rows:\", df.n_unique())\n",
        "for j in range(df.shape[1]):\n",
        "    print(\"n unique elements (\" + df.columns[j] + \"):\", df[:,j].n_unique())"
      ],
      "metadata": {
        "colab": {
          "base_uri": "https://localhost:8080/"
        },
        "id": "FjtMJReskiQu",
        "outputId": "4a11218d-a005-494f-ea44-442c46a21800"
      },
      "execution_count": null,
      "outputs": [
        {
          "output_type": "stream",
          "name": "stdout",
          "text": [
            "shape: (523, 4)\n",
            "n unique rows: 515\n",
            "n unique elements (video_id): 515\n",
            "n unique elements (datetime): 515\n",
            "n unique elements (title): 515\n",
            "n unique elements (transcript): 14\n"
          ]
        }
      ]
    },
    {
      "cell_type": "code",
      "source": [
        "print(\"Total number of title characters:\", sum(len(df['title'][i]) for i in range(len(df))))\n",
        "print(\"Total number of transcript characters:\", sum(len(df['transcript'][i]) for i in range(len(df))))"
      ],
      "metadata": {
        "colab": {
          "base_uri": "https://localhost:8080/"
        },
        "id": "c5gT70VLking",
        "outputId": "bfb006ef-b8ab-46ce-a6b8-16a2356366c0"
      },
      "execution_count": null,
      "outputs": [
        {
          "output_type": "stream",
          "name": "stdout",
          "text": [
            "Total number of title characters: 30541\n",
            "Total number of transcript characters: 100249\n"
          ]
        }
      ]
    },
    {
      "cell_type": "code",
      "source": [
        "# change datetime to Datetime dtype\n",
        "df = df.with_columns(pl.col('datetime').cast(pl.Datetime))\n",
        "print(df.head())\n",
        "df.write_csv(\"Youtube.csv\")"
      ],
      "metadata": {
        "colab": {
          "base_uri": "https://localhost:8080/"
        },
        "id": "f93NZj_akivZ",
        "outputId": "4831b00b-7817-4330-f76c-3d58c2b2f332"
      },
      "execution_count": 19,
      "outputs": [
        {
          "output_type": "stream",
          "name": "stdout",
          "text": [
            "shape: (5, 3)\n",
            "┌─────────────┬─────────────────────┬─────────────────────────────────┐\n",
            "│ video_id    ┆ datetime            ┆ title                           │\n",
            "│ ---         ┆ ---                 ┆ ---                             │\n",
            "│ str         ┆ datetime[μs]        ┆ str                             │\n",
            "╞═════════════╪═════════════════════╪═════════════════════════════════╡\n",
            "│ GdxpXf9LUQY ┆ 2025-03-19 18:00:06 ┆ The Power of the Last 10 Night… │\n",
            "│ mQTQTOW78cc ┆ 2025-03-19 16:01:03 ┆ Your Duty is More Than Paying … │\n",
            "│ 0RaVy5k9DFk ┆ 2025-03-19 14:00:02 ┆ Revert Issues | Mufti Menk | R… │\n",
            "│ Nku70MkGf_w ┆ 2025-03-19 12:00:28 ┆ Everyone&#39;s Blessing is Uni… │\n",
            "│ vUGmz7DiLLQ ┆ 2025-03-19 10:40:04 ┆ Predestined Wealth VS Hard Wor… │\n",
            "└─────────────┴─────────────────────┴─────────────────────────────────┘\n"
          ]
        }
      ]
    }
  ]
}